{
 "cells": [
  {
   "cell_type": "markdown",
   "id": "a945451c-9fa7-4d24-8459-403aae2f1ea5",
   "metadata": {},
   "source": [
    "### Demo_DQN"
   ]
  },
  {
   "cell_type": "code",
   "execution_count": 1,
   "id": "a78870d1-7e84-4169-879e-3f046154df5a",
   "metadata": {},
   "outputs": [
    {
     "name": "stderr",
     "output_type": "stream",
     "text": [
      "<frozen importlib._bootstrap>:241: RuntimeWarning: Your system is avx2 capable but pygame was not built with support for it. The performance of some of your blits could be adversely affected. Consider enabling compile time detection with environment variables like PYGAME_DETECT_AVX2=1 if you are compiling without cross compilation.\n"
     ]
    }
   ],
   "source": [
    "import gym\n",
    "import pygame\n",
    "import time\n",
    "\n",
    "import random\n",
    "import numpy as np\n",
    "from collections import deque\n",
    "\n",
    "import torch\n",
    "import torch.nn as nn\n",
    "import torch.optim as optim\n",
    "\n",
    "import matplotlib.pyplot as plt\n",
    "import pandas as pd"
   ]
  },
  {
   "cell_type": "code",
   "execution_count": 2,
   "id": "1e378aa3-9698-4da1-bab7-b8ad89ab9c5f",
   "metadata": {},
   "outputs": [
    {
     "name": "stdout",
     "output_type": "stream",
     "text": [
      "使用设备： cuda\n"
     ]
    }
   ],
   "source": [
    "device = torch.device(\"cuda\" if torch.cuda.is_available() else \"cpu\")\n",
    "print(\"使用设备：\", device)"
   ]
  },
  {
   "cell_type": "code",
   "execution_count": 3,
   "id": "a3ad2de7-12a0-477c-87ff-e47d70bba6f0",
   "metadata": {},
   "outputs": [],
   "source": [
    "# QNetWork\n",
    "class QNetwork(nn.Module):\n",
    "    def __init__(self, state_dim, action_dim):\n",
    "        super(QNetwork, self).__init__()\n",
    "        self.model = nn.Sequential(\n",
    "            nn.Linear(state_dim,256),  # 隐藏层1 输入state\n",
    "            nn.ReLU(),\n",
    "            nn.Linear(256, 256),       \n",
    "            nn.ReLU(),\n",
    "            nn.Linear(256, 256),       \n",
    "            nn.ReLU(),\n",
    "            nn.Linear(256, 256),       \n",
    "            nn.ReLU(),\n",
    "            nn.Linear(256, action_dim)  # 输出层：每个动作的Q值\n",
    "        )\n",
    "\n",
    "    def forward(self, x):\n",
    "        return self.model(x)"
   ]
  },
  {
   "cell_type": "code",
   "execution_count": 4,
   "id": "b00e9dff-11d7-4c1a-b2a3-45006d7670c8",
   "metadata": {},
   "outputs": [],
   "source": [
    "class ReplayBuffer:\n",
    "    def __init__(self, capacity):\n",
    "        self.buffer = deque(maxlen=capacity)\n",
    "\n",
    "    # one record: (s, a, r, s')\n",
    "    def add(self, state, action, reward, next_state, done):\n",
    "        self.buffer.append((state, action, reward, next_state, done))\n",
    "\n",
    "    def sample(self, batch_size):\n",
    "        batch = random.sample(self.buffer, batch_size)\n",
    "        states, actions, rewards, next_states, dones = zip(*batch)\n",
    "\n",
    "        states      = torch.from_numpy(np.array(states)).float()\n",
    "        actions     = torch.tensor(actions).long()\n",
    "        rewards     = torch.tensor(rewards).float()\n",
    "        next_states = torch.from_numpy(np.array(next_states)).float()\n",
    "        dones       = torch.tensor(dones).float()\n",
    "\n",
    "        return states, actions, rewards, next_states, dones\n",
    "\n",
    "\n",
    "    def __len__(self):\n",
    "        return len(self.buffer)\n"
   ]
  },
  {
   "cell_type": "code",
   "execution_count": 5,
   "id": "a6b59036-b0e6-48ce-bc47-5b7791c3c26e",
   "metadata": {},
   "outputs": [],
   "source": [
    "class DQNAgent:\n",
    "    def __init__(self, \n",
    "                 state_dim, action_dim, \n",
    "                 gamma=0.99, lr=1e-3, tau=1e-2, epsilon=1.0, epsilon_decay=0.995, epsilon_min=5e-3, \n",
    "                 use_cuda=True):\n",
    "        '''\n",
    "        gamma=0.99 未来回报估值\n",
    "        lr=1e-3 learning rate\n",
    "        tau=1e-2 软更新率\n",
    "        epsilon=1.0, epsilon_decay=0.995, epsilon_min=0.01 贪心率\n",
    "        '''\n",
    "        self.device = torch.device(\"cuda\" if use_cuda and torch.cuda.is_available() else \"cpu\")\n",
    "        print(\"Agent使用设备：\", self.device)\n",
    "\n",
    "        self.q_net = QNetwork(state_dim, action_dim).to(self.device)\n",
    "        self.target_q_net = QNetwork(state_dim, action_dim).to(self.device)\n",
    "        self.target_q_net.load_state_dict(self.q_net.state_dict())\n",
    "\n",
    "        self.optimizer = optim.Adam(self.q_net.parameters(), lr=lr)\n",
    "\n",
    "        self.gamma = gamma\n",
    "        self.tau = tau\n",
    "        self.epsilon = epsilon\n",
    "        self.epsilon_decay = epsilon_decay\n",
    "        self.epsilon_min = epsilon_min\n",
    "        self.action_dim = action_dim\n",
    "\n",
    "    def select_action(self, state):\n",
    "        if random.random() < self.epsilon:\n",
    "            return random.randint(0, self.action_dim - 1)\n",
    "        else:\n",
    "            state = torch.FloatTensor(state).unsqueeze(0).to(self.device)\n",
    "            with torch.no_grad():\n",
    "                q_values = self.q_net(state)\n",
    "            return q_values.argmax().item()\n",
    "\n",
    "    def train(self, replay_buffer, batch_size):\n",
    "        if len(replay_buffer) < batch_size:\n",
    "            return\n",
    "\n",
    "        states, actions, rewards, next_states, dones = replay_buffer.sample(batch_size)\n",
    "\n",
    "        # 转为 GPU tensor\n",
    "        states = torch.FloatTensor(states).to(self.device)\n",
    "        actions = torch.LongTensor(actions).to(self.device)\n",
    "        rewards = torch.FloatTensor(rewards).to(self.device)\n",
    "        next_states = torch.FloatTensor(next_states).to(self.device)\n",
    "        dones = torch.FloatTensor(dones).to(self.device)\n",
    "\n",
    "        # 当前 Q(s,a)\n",
    "        q_values = self.q_net(states) # 给定s, 对所有可能动作的Q值 输出为 (batch_size, action_dim)\n",
    "        q_a = q_values.gather(1, actions.unsqueeze(1)).squeeze(1)\n",
    "\n",
    "        # Q(s, a) = r(s, a, s') + gamma * Q_target(s', a')\n",
    "        # 目标 Q(s',a')\n",
    "        with torch.no_grad():\n",
    "            next_q_values = self.target_q_net(next_states)\n",
    "            max_next_q = next_q_values.max(1)[0]\n",
    "            q_target = rewards + self.gamma * max_next_q * (1 - dones)\n",
    "\n",
    "        # MSE 损失\n",
    "        loss = nn.MSELoss()(q_a, q_target)\n",
    "\n",
    "        # 反向传播\n",
    "        self.optimizer.zero_grad() # 清除已有梯度\n",
    "        # backward只负责计算梯度, step才是真正更新\n",
    "        loss.backward()\n",
    "        self.optimizer.step()\n",
    "\n",
    "        # 软更新目标网络\n",
    "        for target_param, param in zip(self.target_q_net.parameters(), self.q_net.parameters()):\n",
    "            target_param.data.copy_(self.tau * param.data + (1.0 - self.tau) * target_param.data)\n",
    "\n",
    "        # 衰减 ε\n",
    "        if self.epsilon > self.epsilon_min:\n",
    "            self.epsilon *= self.epsilon_decay"
   ]
  },
  {
   "cell_type": "markdown",
   "id": "0424501b-cdfe-4e02-b76d-2c473270f11d",
   "metadata": {},
   "source": [
    "### 环境选择"
   ]
  },
  {
   "cell_type": "code",
   "execution_count": 6,
   "id": "205d31b4-1bd5-4e8b-9dc9-05e40b8e9b6a",
   "metadata": {},
   "outputs": [],
   "source": [
    "#game = \"CartPole-v1\"\n",
    "game = \"LunarLander-v2\""
   ]
  },
  {
   "cell_type": "code",
   "execution_count": 7,
   "id": "6fb0abf2-b114-4336-a475-2ddfd73f2ae2",
   "metadata": {},
   "outputs": [],
   "source": [
    "# advance \"LunarLander-v2\"\n",
    "env = gym.make(game)"
   ]
  },
  {
   "cell_type": "code",
   "execution_count": 8,
   "id": "1d9788e8-67d8-4666-b5ec-dfe417dfec10",
   "metadata": {},
   "outputs": [],
   "source": [
    "state_dim = env.observation_space.shape[0]  \n",
    "action_dim = env.action_space.n             "
   ]
  },
  {
   "cell_type": "code",
   "execution_count": 10,
   "id": "f98dcbb3-5c57-4b81-ac6c-7b0444ebf011",
   "metadata": {},
   "outputs": [
    {
     "name": "stdout",
     "output_type": "stream",
     "text": [
      "game: LunarLander-v2, state_dim: 8, action_dim: 4\n",
      "\n"
     ]
    }
   ],
   "source": [
    "print(f\"game: {game}, state_dim: {state_dim}, action_dim: {action_dim}\\n\")"
   ]
  },
  {
   "cell_type": "markdown",
   "id": "73037a82-c508-4d9d-97fc-e30a768e7f67",
   "metadata": {},
   "source": [
    "### 网络定义 训练"
   ]
  },
  {
   "cell_type": "code",
   "execution_count": 11,
   "id": "5f77eebb-afd6-44a7-b498-ad65440bf6d6",
   "metadata": {},
   "outputs": [
    {
     "name": "stdout",
     "output_type": "stream",
     "text": [
      "Agent使用设备： cuda\n"
     ]
    }
   ],
   "source": [
    "agent = DQNAgent(state_dim, action_dim, use_cuda=True)\n",
    "replay_buffer = ReplayBuffer(capacity=50000)"
   ]
  },
  {
   "cell_type": "code",
   "execution_count": 21,
   "id": "544024ae-5807-42d2-9f17-41f918045a58",
   "metadata": {
    "scrolled": true
   },
   "outputs": [
    {
     "name": "stdout",
     "output_type": "stream",
     "text": [
      "Episode 0, Total Reward: 242.56, Epsilon: 0.000\n"
     ]
    }
   ],
   "source": [
    "env = gym.make(game)\n",
    "num_episodes = 500\n",
    "batch_size = 128\n",
    "train_every = 10\n",
    "reward_list = []\n",
    "max_steps = 500\n",
    "\n",
    "for episode in range(num_episodes):\n",
    "    state, _ = env.reset()\n",
    "    \n",
    "    total_reward = 0\n",
    "    action_round = 0\n",
    "    done = False \n",
    "    \n",
    "    while not done and action_round < max_steps:\n",
    "        action = agent.select_action(state)\n",
    "        action_round +=1\n",
    "        \n",
    "        next_state, reward, done, _, _ = env.step(action)\n",
    "        replay_buffer.add(state, action, reward, next_state, done)\n",
    "\n",
    "        state = next_state\n",
    "        total_reward += reward\n",
    "        \n",
    "        if action_round % train_every == 0:\n",
    "            agent.train(replay_buffer, batch_size)\n",
    "        \n",
    "    reward_list.append(total_reward)\n",
    "    \n",
    "    if episode % 10 == 0:\n",
    "        print(f\"Episode {episode}, Total Reward: {total_reward:.2f}, Epsilon: {agent.epsilon:.3f}\")\n",
    "        agent.epsilon = max(agent.epsilon, 0.1)"
   ]
  },
  {
   "cell_type": "markdown",
   "id": "b3299537-6451-442f-8cf7-7f54f8b6b693",
   "metadata": {},
   "source": [
    "### 动画实际演示"
   ]
  },
  {
   "cell_type": "code",
   "execution_count": 26,
   "id": "bc2014f5-ce06-4a50-9f93-993fab550966",
   "metadata": {},
   "outputs": [
    {
     "name": "stdout",
     "output_type": "stream",
     "text": [
      "t = 50, total_reward: 3.6320660600030816\n",
      "t = 100, total_reward: 94.00498341382443\n",
      "t = 150, total_reward: 120.91730386012924\n",
      "t = 200, total_reward: 167.64466571253888\n",
      "Episode 0, Reward: 267.6446673539538\n"
     ]
    }
   ],
   "source": [
    "# 设置渲染模式为 pygame\n",
    "env = gym.make(game, render_mode=\"human\")\n",
    "\n",
    "# 关闭 epsilon，完全贪婪策略\n",
    "agent.epsilon = 0.0\n",
    "\n",
    "# 可视化运行一回合\n",
    "num_episodes = 1\n",
    "for ep in range(num_episodes):\n",
    "    state, _ = env.reset()\n",
    "    done = False\n",
    "    total_reward = 0\n",
    "    t = 0\n",
    "\n",
    "    while not done and t < max_steps:\n",
    "        action = agent.select_action(state)\n",
    "        state, reward, done, _, _ = env.step(action)\n",
    "        total_reward += reward\n",
    "        t += 1\n",
    "\n",
    "        # render 使用 pygame 显示界面\n",
    "        env.render()\n",
    "        if t % 50 == 0: \n",
    "            print(f\"t = {t}, total_reward: {total_reward}\")\n",
    "        # time.sleep(0.001)  # 控制每帧速度\n",
    "\n",
    "    print(f\"Episode {ep}, Reward: {total_reward}\")\n",
    "env.close()\n"
   ]
  },
  {
   "cell_type": "code",
   "execution_count": null,
   "id": "ce2c0222-ea3d-49ec-8cfc-74535bb9da16",
   "metadata": {},
   "outputs": [],
   "source": []
  }
 ],
 "metadata": {
  "kernelspec": {
   "display_name": "Python 3 (ipykernel)",
   "language": "python",
   "name": "python3"
  },
  "language_info": {
   "codemirror_mode": {
    "name": "ipython",
    "version": 3
   },
   "file_extension": ".py",
   "mimetype": "text/x-python",
   "name": "python",
   "nbconvert_exporter": "python",
   "pygments_lexer": "ipython3",
   "version": "3.13.5"
  }
 },
 "nbformat": 4,
 "nbformat_minor": 5
}
